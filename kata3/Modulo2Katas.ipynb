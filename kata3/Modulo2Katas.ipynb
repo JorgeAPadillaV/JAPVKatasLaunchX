{
 "cells": [
  {
   "cell_type": "markdown",
   "metadata": {},
   "source": [
    "Problema No. 1"
   ]
  },
  {
   "cell_type": "code",
   "execution_count": 3,
   "metadata": {},
   "outputs": [
    {
     "name": "stdout",
     "output_type": "stream",
     "text": [
      "¡ALERTA ROJA ASTEROIDE ACERCANDOSE A UNA VELOCIDAD DE 49km/s!\n"
     ]
    }
   ],
   "source": [
    "velocidadAsteroide = 49\n",
    "if velocidadAsteroide > 25:\n",
    "    print('¡ALERTA ROJA ASTEROIDE ACERCANDOSE A UNA VELOCIDAD DE ' + str(velocidadAsteroide)\n",
    "    + 'km/s!')\n",
    "else:\n",
    "    print('¡Sin peligros!')"
   ]
  },
  {
   "cell_type": "markdown",
   "metadata": {},
   "source": [
    "Problema No. 2"
   ]
  },
  {
   "cell_type": "code",
   "execution_count": 4,
   "metadata": {},
   "outputs": [
    {
     "name": "stdout",
     "output_type": "stream",
     "text": [
      "¡Sin peligros!\n"
     ]
    }
   ],
   "source": [
    "velocidadAsteroide = 19\n",
    "if velocidadAsteroide >= 20:\n",
    "    print('¡Hay una luz magica en el cielo a una velocidad de ' + str(velocidadAsteroide)\n",
    "    + 'km/s!')\n",
    "else:\n",
    "    print('¡Cielo despejado!')"
   ]
  },
  {
   "cell_type": "markdown",
   "metadata": {},
   "source": [
    "Problema No. 3"
   ]
  },
  {
   "cell_type": "code",
   "execution_count": null,
   "metadata": {},
   "outputs": [],
   "source": [
    "velocidad_asteroide = 25\n",
    "tamano_asteroide = 40\n",
    "if velocidad_asteroide > 25 and tamano_asteroide > 25:\n",
    "    print('¡ALERTA ROJA ASTEROIDE ACERCANDOSE A UNA VELOCIDAD DE ' + str(velocidadAsteroide)\n",
    "    + 'km/s!')\n",
    "elif velocidad_asteroide >= 20:\n",
    "    print('¡Hay una luz magica en el cielo a una velocidad de ' + str(velocidadAsteroide)\n",
    "    + 'km/s!')\n",
    "elif tamano_asteroide < 25:\n",
    "    print('¡Cielo despejado!')\n",
    "else:\n",
    "    print('¡Cielo despejado!')"
   ]
  }
 ],
 "metadata": {
  "interpreter": {
   "hash": "baa943aff088f969d1cad7441a4e0b642101a661aeba7f1e6d82d89e976dd6d7"
  },
  "kernelspec": {
   "display_name": "Python 3.9.10 64-bit (windows store)",
   "language": "python",
   "name": "python3"
  },
  "language_info": {
   "codemirror_mode": {
    "name": "ipython",
    "version": 3
   },
   "file_extension": ".py",
   "mimetype": "text/x-python",
   "name": "python",
   "nbconvert_exporter": "python",
   "pygments_lexer": "ipython3",
   "version": "3.9.10"
  },
  "orig_nbformat": 4
 },
 "nbformat": 4,
 "nbformat_minor": 2
}
